{
 "cells": [
  {
   "cell_type": "markdown",
   "metadata": {},
   "source": [
    "# Getting data\n",
    "\n",
    "We will use data from a Kaggle housing prices set:\n",
    "\n",
    "https://www.kaggle.com/c/house-prices-advanced-regression-techniques\n",
    "\n",
    "They provide a training set and a test set for us. So we will simply split the training set into training and validation.\n",
    "\n",
    "Those files are at:\n",
    "\n",
    "* `./data/original/train.csv`\n",
    "* `./data/original/test.csv`"
   ]
  },
  {
   "cell_type": "code",
   "execution_count": 72,
   "metadata": {
    "ExecuteTime": {
     "end_time": "2019-09-06T00:32:01.599782Z",
     "start_time": "2019-09-06T00:32:01.596591Z"
    }
   },
   "outputs": [],
   "source": [
    "# This boilerplate allows me to import from my own Python modules\n",
    "# Taken from https://stackoverflow.com/a/39311677\n",
    "import sys\n",
    "nb_dir = os.path.split(os.getcwd())[0]\n",
    "if nb_dir not in sys.path:\n",
    "    sys.path.append(nb_dir)\n",
    "    \n",
    "import numpy as np\n",
    "import torch\n",
    "import math\n",
    "import lib"
   ]
  },
  {
   "cell_type": "code",
   "execution_count": 3,
   "metadata": {
    "ExecuteTime": {
     "end_time": "2019-09-05T23:52:05.781069Z",
     "start_time": "2019-09-05T23:52:05.681624Z"
    }
   },
   "outputs": [
    {
     "data": {
      "text/plain": [
       "array([['Id', 'MSSubClass', 'MSZoning', ..., 'SaleType', 'SaleCondition',\n",
       "        'SalePrice'],\n",
       "       ['1', '60', 'RL', ..., 'WD', 'Normal', '208500'],\n",
       "       ['2', '20', 'RL', ..., 'WD', 'Normal', '181500'],\n",
       "       ...,\n",
       "       ['1458', '70', 'RL', ..., 'WD', 'Normal', '266500'],\n",
       "       ['1459', '20', 'RL', ..., 'WD', 'Normal', '142125'],\n",
       "       ['1460', '20', 'RL', ..., 'WD', 'Normal', '147500']], dtype='<U13')"
      ]
     },
     "execution_count": 3,
     "metadata": {},
     "output_type": "execute_result"
    }
   ],
   "source": [
    "npdata = np.genfromtxt(\n",
    "  open('./data/original/train.csv'),\n",
    "    delimiter=',',\n",
    "    dtype='unicode'\n",
    ")\n",
    "npdata"
   ]
  },
  {
   "cell_type": "code",
   "execution_count": 4,
   "metadata": {
    "ExecuteTime": {
     "end_time": "2019-09-05T23:52:20.475962Z",
     "start_time": "2019-09-05T23:52:20.472356Z"
    }
   },
   "outputs": [
    {
     "data": {
      "text/plain": [
       "array(['Id', 'MSSubClass', 'MSZoning', 'LotFrontage', 'LotArea', 'Street',\n",
       "       'Alley', 'LotShape', 'LandContour', 'Utilities', 'LotConfig',\n",
       "       'LandSlope', 'Neighborhood', 'Condition1', 'Condition2',\n",
       "       'BldgType', 'HouseStyle', 'OverallQual', 'OverallCond',\n",
       "       'YearBuilt', 'YearRemodAdd', 'RoofStyle', 'RoofMatl',\n",
       "       'Exterior1st', 'Exterior2nd', 'MasVnrType', 'MasVnrArea',\n",
       "       'ExterQual', 'ExterCond', 'Foundation', 'BsmtQual', 'BsmtCond',\n",
       "       'BsmtExposure', 'BsmtFinType1', 'BsmtFinSF1', 'BsmtFinType2',\n",
       "       'BsmtFinSF2', 'BsmtUnfSF', 'TotalBsmtSF', 'Heating', 'HeatingQC',\n",
       "       'CentralAir', 'Electrical', '1stFlrSF', '2ndFlrSF', 'LowQualFinSF',\n",
       "       'GrLivArea', 'BsmtFullBath', 'BsmtHalfBath', 'FullBath',\n",
       "       'HalfBath', 'BedroomAbvGr', 'KitchenAbvGr', 'KitchenQual',\n",
       "       'TotRmsAbvGrd', 'Functional', 'Fireplaces', 'FireplaceQu',\n",
       "       'GarageType', 'GarageYrBlt', 'GarageFinish', 'GarageCars',\n",
       "       'GarageArea', 'GarageQual', 'GarageCond', 'PavedDrive',\n",
       "       'WoodDeckSF', 'OpenPorchSF', 'EnclosedPorch', '3SsnPorch',\n",
       "       'ScreenPorch', 'PoolArea', 'PoolQC', 'Fence', 'MiscFeature',\n",
       "       'MiscVal', 'MoSold', 'YrSold', 'SaleType', 'SaleCondition',\n",
       "       'SalePrice'], dtype='<U13')"
      ]
     },
     "execution_count": 4,
     "metadata": {},
     "output_type": "execute_result"
    }
   ],
   "source": [
    "# Inspect headers\n",
    "npdata[0]"
   ]
  },
  {
   "cell_type": "markdown",
   "metadata": {},
   "source": [
    "Let's start by building a small model just to make sure we can stuff working. So let's pull out just four columns."
   ]
  },
  {
   "cell_type": "code",
   "execution_count": 5,
   "metadata": {
    "ExecuteTime": {
     "end_time": "2019-09-05T23:53:05.398138Z",
     "start_time": "2019-09-05T23:53:05.392502Z"
    }
   },
   "outputs": [
    {
     "data": {
      "text/plain": [
       "array(['LotArea', 'TotalBsmtSF', 'GrLivArea', 'GarageArea'], dtype='<U13')"
      ]
     },
     "execution_count": 5,
     "metadata": {},
     "output_type": "execute_result"
    }
   ],
   "source": [
    "npdata[0, [4, 38, 46, 62]]"
   ]
  },
  {
   "cell_type": "code",
   "execution_count": 6,
   "metadata": {
    "ExecuteTime": {
     "end_time": "2019-09-05T23:53:21.980081Z",
     "start_time": "2019-09-05T23:53:21.976507Z"
    }
   },
   "outputs": [
    {
     "data": {
      "text/plain": [
       "array(['SalePrice'], dtype='<U13')"
      ]
     },
     "execution_count": 6,
     "metadata": {},
     "output_type": "execute_result"
    }
   ],
   "source": [
    "# We are trying to predict\n",
    "npdata[0, [80]]"
   ]
  },
  {
   "cell_type": "code",
   "execution_count": 8,
   "metadata": {
    "ExecuteTime": {
     "end_time": "2019-09-05T23:57:03.479567Z",
     "start_time": "2019-09-05T23:57:03.474750Z"
    }
   },
   "outputs": [],
   "source": [
    "class HouseDataset(torch.utils.data.Dataset):\n",
    "    def __init__(self):\n",
    "        npdata = np.genfromtxt(\n",
    "            open('./data/original/train.csv'),\n",
    "            delimiter=',',\n",
    "            dtype='unicode'\n",
    "        )\n",
    "        np_inputs = npdata[1:, [4, 38, 46, 62]].astype(np.float32)\n",
    "        np_outputs = npdata[1:, [80]].astype(np.float32)\n",
    "        \n",
    "        self.inputs = torch.from_numpy(np_inputs)\n",
    "        self.outputs = torch.from_numpy(np_outputs)\n",
    "        \n",
    "        \n",
    "    def __len__(self):\n",
    "        return len(self.inputs)\n",
    "        \n",
    "    def __getitem__(self, index):\n",
    "        return (self.inputs[index], self.outputs[index])\n",
    "        \n",
    "    "
   ]
  },
  {
   "cell_type": "code",
   "execution_count": 9,
   "metadata": {
    "ExecuteTime": {
     "end_time": "2019-09-05T23:57:08.947048Z",
     "start_time": "2019-09-05T23:57:08.835253Z"
    }
   },
   "outputs": [],
   "source": [
    "dataset = HouseDataset()"
   ]
  },
  {
   "cell_type": "code",
   "execution_count": 10,
   "metadata": {
    "ExecuteTime": {
     "end_time": "2019-09-05T23:57:15.179985Z",
     "start_time": "2019-09-05T23:57:15.150875Z"
    }
   },
   "outputs": [
    {
     "data": {
      "text/plain": [
       "(tensor([8450.,  856., 1710.,  548.]), tensor([208500.]))"
      ]
     },
     "execution_count": 10,
     "metadata": {},
     "output_type": "execute_result"
    }
   ],
   "source": [
    "dataset.__getitem__(0)"
   ]
  },
  {
   "cell_type": "markdown",
   "metadata": {},
   "source": [
    "# Split the dataset\n",
    "\n",
    "We want 80% of the dataset to train on, and will leave 20% to validate with."
   ]
  },
  {
   "cell_type": "code",
   "execution_count": 16,
   "metadata": {
    "ExecuteTime": {
     "end_time": "2019-09-05T23:58:28.837496Z",
     "start_time": "2019-09-05T23:58:28.833408Z"
    }
   },
   "outputs": [
    {
     "data": {
      "text/plain": [
       "1168"
      ]
     },
     "execution_count": 16,
     "metadata": {},
     "output_type": "execute_result"
    }
   ],
   "source": [
    "train_size = math.floor(len(dataset) * 0.8)\n",
    "train_size"
   ]
  },
  {
   "cell_type": "code",
   "execution_count": 17,
   "metadata": {
    "ExecuteTime": {
     "end_time": "2019-09-05T23:58:43.818091Z",
     "start_time": "2019-09-05T23:58:43.813856Z"
    }
   },
   "outputs": [
    {
     "data": {
      "text/plain": [
       "292"
      ]
     },
     "execution_count": 17,
     "metadata": {},
     "output_type": "execute_result"
    }
   ],
   "source": [
    "val_size = len(dataset) - train_size\n",
    "val_size"
   ]
  },
  {
   "cell_type": "code",
   "execution_count": 18,
   "metadata": {
    "ExecuteTime": {
     "end_time": "2019-09-05T23:59:27.086330Z",
     "start_time": "2019-09-05T23:59:27.081213Z"
    }
   },
   "outputs": [
    {
     "data": {
      "text/plain": [
       "<torch.utils.data.dataset.Subset at 0x12480b668>"
      ]
     },
     "execution_count": 18,
     "metadata": {},
     "output_type": "execute_result"
    }
   ],
   "source": [
    "train_data, val_data = torch.utils.data.random_split(\n",
    "  dataset,\n",
    "  [train_size, val_size] # You can do any arbitrary amount of splitting here!\n",
    ")\n",
    "train_data"
   ]
  },
  {
   "cell_type": "code",
   "execution_count": 19,
   "metadata": {
    "ExecuteTime": {
     "end_time": "2019-09-05T23:59:46.984209Z",
     "start_time": "2019-09-05T23:59:46.981203Z"
    }
   },
   "outputs": [
    {
     "name": "stdout",
     "output_type": "stream",
     "text": [
      "1168 292\n"
     ]
    }
   ],
   "source": [
    "print(len(train_data), len(val_data))"
   ]
  },
  {
   "cell_type": "markdown",
   "metadata": {},
   "source": [
    "We know need to transform these split data sets into two \"data loaders.\" The data loaders handle mini-batching."
   ]
  },
  {
   "cell_type": "code",
   "execution_count": 21,
   "metadata": {
    "ExecuteTime": {
     "end_time": "2019-09-06T00:01:57.293077Z",
     "start_time": "2019-09-06T00:01:57.288381Z"
    }
   },
   "outputs": [
    {
     "data": {
      "text/plain": [
       "<torch.utils.data.dataloader.DataLoader at 0x1243314e0>"
      ]
     },
     "execution_count": 21,
     "metadata": {},
     "output_type": "execute_result"
    }
   ],
   "source": [
    "# With only using 4 features, we could put our batch size in the thousands on a decent machine.\n",
    "# However, we really want to see the batching happen\n",
    "# You want to shuffle to prevent preset-ordering effecting the training\n",
    "train_loader = torch.utils.data.DataLoader(train_data, batch_size=128, shuffle=True)\n",
    "train_loader"
   ]
  },
  {
   "cell_type": "code",
   "execution_count": 22,
   "metadata": {
    "ExecuteTime": {
     "end_time": "2019-09-06T00:02:20.215049Z",
     "start_time": "2019-09-06T00:02:20.212420Z"
    }
   },
   "outputs": [],
   "source": [
    "val_loader = torch.utils.data.DataLoader(val_data, batch_size=128, shuffle=True)"
   ]
  },
  {
   "cell_type": "code",
   "execution_count": 71,
   "metadata": {
    "ExecuteTime": {
     "end_time": "2019-09-06T00:31:36.377516Z",
     "start_time": "2019-09-06T00:31:36.373148Z"
    }
   },
   "outputs": [
    {
     "data": {
      "text/plain": [
       "LinearNet(\n",
       "  (layer1): Linear(in_features=4, out_features=8, bias=True)\n",
       "  (layer2): Linear(in_features=8, out_features=16, bias=True)\n",
       "  (layer3): Linear(in_features=16, out_features=8, bias=True)\n",
       "  (layer4): Linear(in_features=8, out_features=1, bias=True)\n",
       ")"
      ]
     },
     "execution_count": 71,
     "metadata": {},
     "output_type": "execute_result"
    }
   ],
   "source": [
    "net = lib.network.LinearNet([4, 8, 16, 8, 1])\n",
    "net"
   ]
  },
  {
   "cell_type": "code",
   "execution_count": 60,
   "metadata": {
    "ExecuteTime": {
     "end_time": "2019-09-06T00:23:39.046114Z",
     "start_time": "2019-09-06T00:23:39.043800Z"
    }
   },
   "outputs": [],
   "source": [
    "criterion = torch.nn.MSELoss()\n",
    "optimizer = torch.optim.Adam(net.parameters(), lr=0.001)"
   ]
  },
  {
   "cell_type": "markdown",
   "metadata": {},
   "source": [
    "We need to do a training loop for each epoch, but now also an internal loop for each minibatch. The data loader makes this easy."
   ]
  },
  {
   "cell_type": "code",
   "execution_count": 65,
   "metadata": {
    "ExecuteTime": {
     "end_time": "2019-09-06T00:23:49.172341Z",
     "start_time": "2019-09-06T00:23:48.790999Z"
    }
   },
   "outputs": [
    {
     "name": "stdout",
     "output_type": "stream",
     "text": [
      "21.44% error.\n"
     ]
    }
   ],
   "source": [
    "total_pct_error = 0\n",
    "total_count = 0\n",
    "\n",
    "\n",
    "epochs = 25\n",
    "for i in range(epochs):\n",
    "    for j, data in enumerate(train_loader, 0):\n",
    "        inputs = data[0]\n",
    "        outputs = data[1]\n",
    "        \n",
    "        net.zero_grad()\n",
    "        net_outputs = net(inputs)\n",
    "        \n",
    "        # We insert our own tracking code here separate from the learning code\n",
    "        # to make it easier to track model performance over time.\n",
    "        diff = (net_outputs - outputs).abs()\n",
    "        pct_error = (diff / outputs * 100).mean().item()\n",
    "        total_pct_error += (pct_error * len(inputs))\n",
    "        total_count += len(inputs)\n",
    "        \n",
    "        \n",
    "        loss = criterion(net_outputs, outputs)\n",
    "        loss.backward()\n",
    "        optimizer.step()\n",
    "        \n",
    "print(f\"{round(total_pct_error / total_count, 2)}% error.\")"
   ]
  },
  {
   "cell_type": "markdown",
   "metadata": {},
   "source": [
    "Great, we just trained our model for 25 epochs across all of our train data! Now let's devise a way to validate the result."
   ]
  },
  {
   "cell_type": "markdown",
   "metadata": {},
   "source": [
    "# Validation\n",
    "\n",
    "Now let's iterate over validation set and compare the percent accuracy against our training set."
   ]
  },
  {
   "cell_type": "code",
   "execution_count": 66,
   "metadata": {
    "ExecuteTime": {
     "end_time": "2019-09-06T00:23:51.490910Z",
     "start_time": "2019-09-06T00:23:51.480359Z"
    }
   },
   "outputs": [
    {
     "name": "stdout",
     "output_type": "stream",
     "text": [
      "20.38% error.\n"
     ]
    }
   ],
   "source": [
    "total_pct_error = 0\n",
    "total_count = 0\n",
    "\n",
    "\n",
    "for j, data in enumerate(val_loader, 0):\n",
    "    inputs = data[0]\n",
    "    outputs = data[1]\n",
    "        \n",
    "    net.zero_grad()\n",
    "    net_outputs = net(inputs)\n",
    "        \n",
    "    # We insert our own tracking code here separate from the learning code\n",
    "    # to make it easier to track model performance over time.\n",
    "    diff = (net_outputs - outputs).abs()\n",
    "    pct_error = (diff / outputs * 100).mean().item()\n",
    "    total_pct_error += (pct_error * len(inputs))\n",
    "    total_count += len(inputs)\n",
    "        \n",
    "        \n",
    "    loss = criterion(net_outputs, outputs)\n",
    "    loss.backward()\n",
    "    optimizer.step()\n",
    "        \n",
    "print(f\"{round(total_pct_error / total_count, 2)}% error.\")"
   ]
  },
  {
   "cell_type": "markdown",
   "metadata": {},
   "source": [
    "# Saving a model\n"
   ]
  },
  {
   "cell_type": "code",
   "execution_count": 68,
   "metadata": {
    "ExecuteTime": {
     "end_time": "2019-09-06T00:26:42.225286Z",
     "start_time": "2019-09-06T00:26:42.218925Z"
    }
   },
   "outputs": [],
   "source": [
    "torch.save({\n",
    "    'model': net.state_dict(),\n",
    "    'optimizer': optimizer.state_dict() \n",
    "}, './models/house_prices.pt')"
   ]
  },
  {
   "cell_type": "code",
   "execution_count": null,
   "metadata": {},
   "outputs": [],
   "source": []
  }
 ],
 "metadata": {
  "kernelspec": {
   "display_name": "Python 3",
   "language": "python",
   "name": "python3"
  },
  "language_info": {
   "codemirror_mode": {
    "name": "ipython",
    "version": 3
   },
   "file_extension": ".py",
   "mimetype": "text/x-python",
   "name": "python",
   "nbconvert_exporter": "python",
   "pygments_lexer": "ipython3",
   "version": "3.7.3"
  },
  "toc": {
   "base_numbering": 1,
   "nav_menu": {},
   "number_sections": true,
   "sideBar": true,
   "skip_h1_title": false,
   "title_cell": "Table of Contents",
   "title_sidebar": "Contents",
   "toc_cell": false,
   "toc_position": {},
   "toc_section_display": true,
   "toc_window_display": false
  },
  "varInspector": {
   "cols": {
    "lenName": 16,
    "lenType": 16,
    "lenVar": 40
   },
   "kernels_config": {
    "python": {
     "delete_cmd_postfix": "",
     "delete_cmd_prefix": "del ",
     "library": "var_list.py",
     "varRefreshCmd": "print(var_dic_list())"
    },
    "r": {
     "delete_cmd_postfix": ") ",
     "delete_cmd_prefix": "rm(",
     "library": "var_list.r",
     "varRefreshCmd": "cat(var_dic_list()) "
    }
   },
   "types_to_exclude": [
    "module",
    "function",
    "builtin_function_or_method",
    "instance",
    "_Feature"
   ],
   "window_display": false
  }
 },
 "nbformat": 4,
 "nbformat_minor": 2
}
