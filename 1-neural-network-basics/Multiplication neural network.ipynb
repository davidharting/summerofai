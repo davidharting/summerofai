{
 "cells": [
  {
   "cell_type": "markdown",
   "metadata": {},
   "source": [
    "# Train a neural network to do multiplication"
   ]
  },
  {
   "cell_type": "code",
   "execution_count": 1,
   "metadata": {
    "ExecuteTime": {
     "end_time": "2019-08-31T15:31:24.897353Z",
     "start_time": "2019-08-31T15:31:24.599324Z"
    }
   },
   "outputs": [
    {
     "data": {
      "text/plain": [
       "<torch._C.Generator at 0x109d4eef0>"
      ]
     },
     "execution_count": 1,
     "metadata": {},
     "output_type": "execute_result"
    }
   ],
   "source": [
    "import torch\n",
    "import torch.nn.functional as F # F contains activation functions\n",
    "\n",
    "# Affix the randomness so that we get the same results each time we run this notebook.\n",
    "torch.manual_seed(1)"
   ]
  },
  {
   "cell_type": "markdown",
   "metadata": {},
   "source": [
    "## Step 1: Gather data"
   ]
  },
  {
   "cell_type": "code",
   "execution_count": 2,
   "metadata": {
    "ExecuteTime": {
     "end_time": "2019-08-31T15:31:24.902722Z",
     "start_time": "2019-08-31T15:31:24.899062Z"
    }
   },
   "outputs": [],
   "source": [
    "# We have little data, so our network will not generalize very well\n",
    "inputs = [\n",
    "    [2, 4],\n",
    "    [1, 3],\n",
    "    [-2, 2],\n",
    "    # Adding more inputs to avoid overfitting\n",
    "    [1, 2],\n",
    "    [-1, 2],\n",
    "    [2, 5],\n",
    "    [2, 1]\n",
    "]\n",
    "\n",
    "outputs = [\n",
    "    [8],\n",
    "    [3],\n",
    "    [-4],\n",
    "    # Adding more outputs to avoid overfitting\n",
    "    [2],\n",
    "    [-2],\n",
    "    [10],\n",
    "    [2]\n",
    "]"
   ]
  },
  {
   "cell_type": "markdown",
   "metadata": {},
   "source": [
    "## Step 2: Define architecture"
   ]
  },
  {
   "cell_type": "code",
   "execution_count": 3,
   "metadata": {
    "ExecuteTime": {
     "end_time": "2019-08-31T15:31:24.910968Z",
     "start_time": "2019-08-31T15:31:24.904618Z"
    }
   },
   "outputs": [],
   "source": [
    "class Net(torch.nn.Module):\n",
    "    def __init__(self):\n",
    "        super(Net, self).__init__()\n",
    "        # Define layers we want in the network\n",
    "        # This part is the \"art\" of neural nets\n",
    "        # Too many neurons and we will over-fit\n",
    "        # Let's go with 4 -> 8 -> 4 for the hidden layers\n",
    "        # There is also 2 input neurons and 1 output neuron\n",
    "        self.layer1 = torch.nn.Linear(2, 4) # 2 inputs, 4 outputs\n",
    "        self.layer2 = torch.nn.Linear(4, 8)\n",
    "        self.layer3 = torch.nn.Linear(8, 4)\n",
    "        self.layer4 = torch.nn.Linear(4, 1)\n",
    "    \n",
    "    def forward(self, x):\n",
    "        \"\"\"\n",
    "        All networks must have this function to define how data flows through the network.\n",
    "        x -- The input tensor. In our case it will be a 2x1 tensor.\n",
    "        \"\"\"\n",
    "        # In forward, we manually propigate the input in through the layers and define activation functions\n",
    "        x = self.layer1(x)\n",
    "        x = F.relu(x) # relu is our if x < 0 return 0 else return x\n",
    "        \n",
    "        x = self.layer2(x)\n",
    "        x = F.relu(x)\n",
    "        \n",
    "        x = self.layer3(x)\n",
    "        x = F.relu(x)\n",
    "        \n",
    "        x = self.layer4(x)\n",
    "        # No activation for last layer\n",
    "        # Because we want to return a continuous real number. Not just postivie numbers.\n",
    "        \n",
    "        return x\n",
    "        "
   ]
  },
  {
   "cell_type": "code",
   "execution_count": 4,
   "metadata": {
    "ExecuteTime": {
     "end_time": "2019-08-31T15:31:24.918705Z",
     "start_time": "2019-08-31T15:31:24.912710Z"
    }
   },
   "outputs": [
    {
     "data": {
      "text/plain": [
       "Net(\n",
       "  (layer1): Linear(in_features=2, out_features=4, bias=True)\n",
       "  (layer2): Linear(in_features=4, out_features=8, bias=True)\n",
       "  (layer3): Linear(in_features=8, out_features=4, bias=True)\n",
       "  (layer4): Linear(in_features=4, out_features=1, bias=True)\n",
       ")"
      ]
     },
     "execution_count": 4,
     "metadata": {},
     "output_type": "execute_result"
    }
   ],
   "source": [
    "net = Net()\n",
    "net"
   ]
  },
  {
   "cell_type": "markdown",
   "metadata": {},
   "source": [
    "## Step 3: Train"
   ]
  },
  {
   "cell_type": "code",
   "execution_count": 5,
   "metadata": {
    "ExecuteTime": {
     "end_time": "2019-08-31T15:31:24.925153Z",
     "start_time": "2019-08-31T15:31:24.920816Z"
    }
   },
   "outputs": [],
   "source": [
    "# convert input to tensors\n",
    "tensor_in = torch.tensor(inputs).float()\n",
    "expected = torch.tensor(outputs).float()\n",
    "\n",
    "# define loss function\n",
    "criterion = torch.nn.MSELoss() # appropriate for continuous output numbers\n",
    "\n",
    "# define optimizer\n",
    "optimizer = torch.optim.SGD(net.parameters(), lr=0.001) # lr = learning rate"
   ]
  },
  {
   "cell_type": "code",
   "execution_count": 6,
   "metadata": {
    "ExecuteTime": {
     "end_time": "2019-08-31T15:31:25.315177Z",
     "start_time": "2019-08-31T15:31:24.928226Z"
    }
   },
   "outputs": [],
   "source": [
    "# Training loop\n",
    "for i in range(1000):\n",
    "    net.zero_grad() # Make sure each pass of loop has a clean network\n",
    "    output = net(tensor_in)\n",
    "    loss = criterion(output, expected)\n",
    "    loss.backward()\n",
    "    optimizer.step()"
   ]
  },
  {
   "cell_type": "code",
   "execution_count": 7,
   "metadata": {
    "ExecuteTime": {
     "end_time": "2019-08-31T15:31:25.320946Z",
     "start_time": "2019-08-31T15:31:25.316677Z"
    }
   },
   "outputs": [
    {
     "name": "stdout",
     "output_type": "stream",
     "text": [
      "tensor([[ 7.9879],\n",
      "        [ 3.6484],\n",
      "        [-3.0712],\n",
      "        [ 1.8739],\n",
      "        [-2.8785],\n",
      "        [ 9.7624],\n",
      "        [ 1.8701]], grad_fn=<AddmmBackward>)\n"
     ]
    }
   ],
   "source": [
    "print(net(tensor_in))"
   ]
  },
  {
   "cell_type": "code",
   "execution_count": 8,
   "metadata": {
    "ExecuteTime": {
     "end_time": "2019-08-31T15:31:25.324711Z",
     "start_time": "2019-08-31T15:31:25.322389Z"
    }
   },
   "outputs": [],
   "source": [
    "test_values = torch.tensor([\n",
    "    [1, 4],\n",
    "    [2, 3]\n",
    "]).float()"
   ]
  },
  {
   "cell_type": "code",
   "execution_count": 9,
   "metadata": {
    "ExecuteTime": {
     "end_time": "2019-08-31T15:31:25.329960Z",
     "start_time": "2019-08-31T15:31:25.325983Z"
    }
   },
   "outputs": [
    {
     "name": "stdout",
     "output_type": "stream",
     "text": [
      "tensor([[5.4229],\n",
      "        [6.0829]], grad_fn=<AddmmBackward>)\n"
     ]
    }
   ],
   "source": [
    "print(net(test_values))"
   ]
  },
  {
   "cell_type": "code",
   "execution_count": null,
   "metadata": {},
   "outputs": [],
   "source": []
  }
 ],
 "metadata": {
  "kernelspec": {
   "display_name": "Python 3",
   "language": "python",
   "name": "python3"
  },
  "language_info": {
   "codemirror_mode": {
    "name": "ipython",
    "version": 3
   },
   "file_extension": ".py",
   "mimetype": "text/x-python",
   "name": "python",
   "nbconvert_exporter": "python",
   "pygments_lexer": "ipython3",
   "version": "3.7.3"
  },
  "toc": {
   "base_numbering": 1,
   "nav_menu": {},
   "number_sections": true,
   "sideBar": true,
   "skip_h1_title": false,
   "title_cell": "Table of Contents",
   "title_sidebar": "Contents",
   "toc_cell": false,
   "toc_position": {},
   "toc_section_display": true,
   "toc_window_display": false
  },
  "varInspector": {
   "cols": {
    "lenName": 16,
    "lenType": 16,
    "lenVar": 40
   },
   "kernels_config": {
    "python": {
     "delete_cmd_postfix": "",
     "delete_cmd_prefix": "del ",
     "library": "var_list.py",
     "varRefreshCmd": "print(var_dic_list())"
    },
    "r": {
     "delete_cmd_postfix": ") ",
     "delete_cmd_prefix": "rm(",
     "library": "var_list.r",
     "varRefreshCmd": "cat(var_dic_list()) "
    }
   },
   "types_to_exclude": [
    "module",
    "function",
    "builtin_function_or_method",
    "instance",
    "_Feature"
   ],
   "window_display": false
  }
 },
 "nbformat": 4,
 "nbformat_minor": 2
}
