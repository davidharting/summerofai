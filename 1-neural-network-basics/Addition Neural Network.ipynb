{
 "cells": [
  {
   "cell_type": "code",
   "execution_count": 1,
   "metadata": {
    "ExecuteTime": {
     "end_time": "2019-08-31T15:39:30.164251Z",
     "start_time": "2019-08-31T15:39:29.907940Z"
    }
   },
   "outputs": [],
   "source": [
    "import torch\n",
    "import torch.nn.functional as F"
   ]
  },
  {
   "cell_type": "code",
   "execution_count": 2,
   "metadata": {
    "ExecuteTime": {
     "end_time": "2019-08-31T15:39:30.169688Z",
     "start_time": "2019-08-31T15:39:30.166014Z"
    }
   },
   "outputs": [],
   "source": [
    "inputs = [\n",
    "    [2, 4],\n",
    "    [1, 3],\n",
    "    [-2, 2],\n",
    "    [1, 2],\n",
    "    [-1, 2],\n",
    "    [2, 5],\n",
    "    [2, 1]\n",
    "]\n",
    "\n",
    "outputs = [\n",
    "    [6],\n",
    "    [4],\n",
    "    [0],\n",
    "    [3],\n",
    "    [1],\n",
    "    [7],\n",
    "    [3]\n",
    "]"
   ]
  },
  {
   "cell_type": "code",
   "execution_count": 3,
   "metadata": {
    "ExecuteTime": {
     "end_time": "2019-08-31T15:39:30.177010Z",
     "start_time": "2019-08-31T15:39:30.171309Z"
    }
   },
   "outputs": [],
   "source": [
    "class Net(torch.nn.Module):\n",
    "    def __init__(self):\n",
    "        super(Net, self).__init__()\n",
    "        # Define layers we want in the network\n",
    "        # This part is the \"art\" of neural nets\n",
    "        # Too many neurons and we will over-fit\n",
    "        # Let's go with 4 -> 8 -> 4 for the hidden layers\n",
    "        # There is also 2 input neurons and 1 output neuron\n",
    "        self.layer1 = torch.nn.Linear(2, 4) # 2 inputs, 4 outputs\n",
    "        self.layer2 = torch.nn.Linear(4, 8)\n",
    "        self.layer3 = torch.nn.Linear(8, 4)\n",
    "        self.layer4 = torch.nn.Linear(4, 1)\n",
    "    \n",
    "    def forward(self, x):\n",
    "        \"\"\"\n",
    "        All networks must have this function to define how data flows through the network.\n",
    "        x -- The input tensor. In our case it will be a 2x1 tensor.\n",
    "        \"\"\"\n",
    "        # In forward, we manually propigate the input in through the layers and define activation functions\n",
    "        x = self.layer1(x)\n",
    "        x = F.relu(x) # relu is our if x < 0 return 0 else return x\n",
    "        \n",
    "        x = self.layer2(x)\n",
    "        x = F.relu(x)\n",
    "        \n",
    "        x = self.layer3(x)\n",
    "        x = F.relu(x)\n",
    "        \n",
    "        x = self.layer4(x)\n",
    "        # No activation for last layer\n",
    "        # Because we want to return a continuous real number. Not just postivie numbers.\n",
    "        \n",
    "        return x"
   ]
  },
  {
   "cell_type": "code",
   "execution_count": 4,
   "metadata": {
    "ExecuteTime": {
     "end_time": "2019-08-31T15:39:30.187734Z",
     "start_time": "2019-08-31T15:39:30.179078Z"
    }
   },
   "outputs": [
    {
     "data": {
      "text/plain": [
       "Net(\n",
       "  (layer1): Linear(in_features=2, out_features=4, bias=True)\n",
       "  (layer2): Linear(in_features=4, out_features=8, bias=True)\n",
       "  (layer3): Linear(in_features=8, out_features=4, bias=True)\n",
       "  (layer4): Linear(in_features=4, out_features=1, bias=True)\n",
       ")"
      ]
     },
     "execution_count": 4,
     "metadata": {},
     "output_type": "execute_result"
    }
   ],
   "source": [
    "net = Net()\n",
    "net"
   ]
  },
  {
   "cell_type": "code",
   "execution_count": 5,
   "metadata": {
    "ExecuteTime": {
     "end_time": "2019-08-31T15:39:30.193204Z",
     "start_time": "2019-08-31T15:39:30.189238Z"
    }
   },
   "outputs": [],
   "source": [
    "# convert input to tensors\n",
    "tensor_in = torch.tensor(inputs).float()\n",
    "expected = torch.tensor(outputs).float()\n",
    "\n",
    "# define loss function\n",
    "criterion = torch.nn.MSELoss() # appropriate for continuous output numbers\n",
    "\n",
    "# define optimizer\n",
    "optimizer = torch.optim.SGD(net.parameters(), lr=0.001) # lr = learning rate"
   ]
  },
  {
   "cell_type": "code",
   "execution_count": 6,
   "metadata": {
    "ExecuteTime": {
     "end_time": "2019-08-31T15:39:31.252250Z",
     "start_time": "2019-08-31T15:39:30.195231Z"
    }
   },
   "outputs": [],
   "source": [
    "# Training loop\n",
    "for i in range(3000):\n",
    "    net.zero_grad() # Make sure each pass of loop has a clean network\n",
    "    output = net(tensor_in)\n",
    "    loss = criterion(output, expected)\n",
    "    loss.backward()\n",
    "    optimizer.step()"
   ]
  },
  {
   "cell_type": "code",
   "execution_count": 7,
   "metadata": {
    "ExecuteTime": {
     "end_time": "2019-08-31T15:39:31.259056Z",
     "start_time": "2019-08-31T15:39:31.254783Z"
    }
   },
   "outputs": [
    {
     "name": "stdout",
     "output_type": "stream",
     "text": [
      "tensor([[5.9675],\n",
      "        [4.0895],\n",
      "        [0.1892],\n",
      "        [3.0778],\n",
      "        [0.9157],\n",
      "        [6.9792],\n",
      "        [2.9323]], grad_fn=<AddmmBackward>)\n"
     ]
    }
   ],
   "source": [
    "print(net(tensor_in))"
   ]
  },
  {
   "cell_type": "code",
   "execution_count": 10,
   "metadata": {
    "ExecuteTime": {
     "end_time": "2019-08-31T15:43:43.485765Z",
     "start_time": "2019-08-31T15:43:43.480499Z"
    }
   },
   "outputs": [
    {
     "data": {
      "text/plain": [
       "tensor([[5.0781],\n",
       "        [4.9558]], grad_fn=<AddmmBackward>)"
      ]
     },
     "execution_count": 10,
     "metadata": {},
     "output_type": "execute_result"
    }
   ],
   "source": [
    "net(torch.tensor([\n",
    "    [1, 4],\n",
    "    [2, 3]\n",
    "]).float())"
   ]
  },
  {
   "cell_type": "code",
   "execution_count": null,
   "metadata": {},
   "outputs": [],
   "source": []
  }
 ],
 "metadata": {
  "kernelspec": {
   "display_name": "Python 3",
   "language": "python",
   "name": "python3"
  },
  "language_info": {
   "codemirror_mode": {
    "name": "ipython",
    "version": 3
   },
   "file_extension": ".py",
   "mimetype": "text/x-python",
   "name": "python",
   "nbconvert_exporter": "python",
   "pygments_lexer": "ipython3",
   "version": "3.7.3"
  },
  "toc": {
   "base_numbering": 1,
   "nav_menu": {},
   "number_sections": true,
   "sideBar": true,
   "skip_h1_title": false,
   "title_cell": "Table of Contents",
   "title_sidebar": "Contents",
   "toc_cell": false,
   "toc_position": {},
   "toc_section_display": true,
   "toc_window_display": false
  },
  "varInspector": {
   "cols": {
    "lenName": 16,
    "lenType": 16,
    "lenVar": 40
   },
   "kernels_config": {
    "python": {
     "delete_cmd_postfix": "",
     "delete_cmd_prefix": "del ",
     "library": "var_list.py",
     "varRefreshCmd": "print(var_dic_list())"
    },
    "r": {
     "delete_cmd_postfix": ") ",
     "delete_cmd_prefix": "rm(",
     "library": "var_list.r",
     "varRefreshCmd": "cat(var_dic_list()) "
    }
   },
   "types_to_exclude": [
    "module",
    "function",
    "builtin_function_or_method",
    "instance",
    "_Feature"
   ],
   "window_display": false
  }
 },
 "nbformat": 4,
 "nbformat_minor": 2
}
